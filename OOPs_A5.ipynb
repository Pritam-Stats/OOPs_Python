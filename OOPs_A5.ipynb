{
  "nbformat": 4,
  "nbformat_minor": 0,
  "metadata": {
    "colab": {
      "provenance": []
    },
    "kernelspec": {
      "name": "python3",
      "display_name": "Python 3"
    },
    "language_info": {
      "name": "python"
    }
  },
  "cells": [
    {
      "cell_type": "markdown",
      "source": [
        "##**1. What are the five key concepts of Object-Oriented Programming (OOP)?**\n",
        "\n",
        "The five key concepts of OOP are the following -\n",
        "\n",
        "1. **Inheritance**\n",
        "    -  The  mechanism by which one class can inherit attributes and methods from another class. This enhances the code reusability and also prevents us from writing similar type of code multiple times for different classes.\n",
        "\n",
        "2. **Encapsulation**\n",
        "    - This allow us to protect and make some attribute and methods private of a class using `_` and `__  ` single underscore to protect and double underscore to make something private of a class.\n",
        "\n",
        "3. **Abstraction**\n",
        "    - Allow us to hide complicated implimentation and showing only the essential details.\n",
        "    - This allows us to create abstract classes and abstract method by using ther ABC and abstractmethod module from the abc library of python. Which gives a blueprint for the subclasses created from the abstract class.\n",
        "\n",
        "4. **Polymorphism**\n",
        "    - Ability to use a single interface to represent different underlying forms (e.g., method overriding and method overloading)."
      ],
      "metadata": {
        "id": "UcdnuB_ul4GM"
      }
    },
    {
      "cell_type": "markdown",
      "source": [
        "##**2.  Write a Python class for a `Car` with attributes for `make`, `model`, and `year`. Include a method to display the car's information.**"
      ],
      "metadata": {
        "id": "uoTS-VOKmKb3"
      }
    },
    {
      "cell_type": "code",
      "source": [
        "class Car:\n",
        "    def __init__(self, make, model, year):      #constructor and we can give manual input differently for every object\n",
        "        self.make = make\n",
        "        self.model = model\n",
        "        self.year = year\n",
        "\n",
        "    def display_info(self):     #method to display the car informations.\n",
        "        print(f\"Car informations - \\n Make :  {self.make},  Model :  {self.model}, Year :  {self.year}.\\n\")"
      ],
      "metadata": {
        "id": "y83zKIkmmVnW"
      },
      "execution_count": null,
      "outputs": []
    },
    {
      "cell_type": "code",
      "source": [
        "car1 = Car(\"BMW\", \"X5\", 2023)       #instance 1\n",
        "car2 = Car(\"Rolls Royce\", \"Phantom\", 2023)      #instance 2\n",
        "\n",
        "car1.display_info()\n",
        "car2.display_info()"
      ],
      "metadata": {
        "colab": {
          "base_uri": "https://localhost:8080/"
        },
        "id": "LQ4Os01NRDgi",
        "outputId": "7fa55490-b9dd-4ddf-a020-edcffe3a791c"
      },
      "execution_count": null,
      "outputs": [
        {
          "output_type": "stream",
          "name": "stdout",
          "text": [
            "Car informations - \n",
            " Make :  BMW,  Model :  X5, Year :  2023.\n",
            "\n",
            "Car informations - \n",
            " Make :  Rolls Royce,  Model :  Phantom, Year :  2023.\n",
            "\n"
          ]
        }
      ]
    },
    {
      "cell_type": "markdown",
      "source": [
        "##**3. Explain the difference between instance methods and class methods. Provide an example of each.**\n",
        "\n",
        "**Instance Methods:**\n",
        "\n",
        "Belong to an instance of a class.\n",
        "They take self as the first parameter and can access instance variables and methods.\n",
        "\n",
        "\n",
        "**Class Methods**:\n",
        "\n",
        "Belong to the class itself, not the instance.\n",
        "They take cls as the first parameter and can access class variables.\n",
        "They are defined using the @classmethod decorator."
      ],
      "metadata": {
        "id": "M61LjWHumWw7"
      }
    },
    {
      "cell_type": "code",
      "source": [
        "#instance method\n",
        "\n",
        "class Dog:\n",
        "    def __init__(self, name):\n",
        "        self.name = name\n",
        "\n",
        "    def bark(self):\n",
        "        print(f\"{self.name} barks\")\n",
        "\n",
        "dog = Dog(\"Buddy\")\n",
        "dog.bark()  # Output: Buddy barks\n"
      ],
      "metadata": {
        "id": "4NS4IAArmelJ"
      },
      "execution_count": null,
      "outputs": []
    },
    {
      "cell_type": "code",
      "source": [
        "#class method\n",
        "class Dog:\n",
        "    count = 0\n",
        "\n",
        "    def __init__(self, name):\n",
        "        self.name = name\n",
        "        Dog.increment_count()\n",
        "\n",
        "    @classmethod\n",
        "    def increment_count(cls):\n",
        "        cls.count += 1\n",
        "\n",
        "    @classmethod\n",
        "    def get_count(cls):\n",
        "        return cls.count\n",
        "\n",
        "dog1 = Dog(\"Buddy\")\n",
        "dog2 = Dog(\"Max\")\n",
        "print(Dog.get_count())  # Output: 2\n"
      ],
      "metadata": {
        "id": "a23BIykr1k-c"
      },
      "execution_count": null,
      "outputs": []
    },
    {
      "cell_type": "markdown",
      "source": [
        "##**4. How does Python implement method overloading? Give an example.**\n",
        "\n",
        "Method overloading in Python is not supported directly like in other languages (e.g., Java). However, we can simulate method overloading by using default arguments or variable-length arguments in the method definition."
      ],
      "metadata": {
        "id": "UtDsEai1mfda"
      }
    },
    {
      "cell_type": "code",
      "source": [
        "class Calculator:\n",
        "    def add(self, a, b=0, c=0):\n",
        "        return a + b + c\n",
        "\n",
        "calc = Calculator()\n",
        "print(calc.add(5))        # Output: 5\n",
        "print(calc.add(5, 10))    # Output: 15\n",
        "print(calc.add(5, 10, 15))  # Output: 30\n"
      ],
      "metadata": {
        "id": "uIqmvz6_mm5h"
      },
      "execution_count": null,
      "outputs": []
    },
    {
      "cell_type": "code",
      "source": [
        "class Calculator:\n",
        "    def add(self, *args):\n",
        "        return sum(args)\n",
        "\n",
        "calc = Calculator()\n",
        "print(calc.add(1, 2))            # Output: 3\n",
        "print(calc.add(1, 2, 3, 4, 5))    # Output: 15\n"
      ],
      "metadata": {
        "id": "g0Cipeyo1vfE"
      },
      "execution_count": null,
      "outputs": []
    },
    {
      "cell_type": "markdown",
      "source": [
        "##**5. What are the three types of access modifiers in Python? How are they denoted?**\n",
        "\n",
        "1. Public:\n",
        "\n",
        "Members (variables/methods) are accessible from anywhere.\n",
        "Denoted by no underscores before the name (e.g., name).\n",
        "\n",
        "\n",
        "2. Protected:\n",
        "\n",
        "Members are intended to be accessible only within the class and its subclasses.\n",
        "Denoted by a single underscore before the name (e.g., _name).\n",
        "\n",
        "\n",
        "3. Private:\n",
        "\n",
        "Members are intended to be accessible only within the class.\n",
        "Denoted by double underscores before the name (e.g., __name)."
      ],
      "metadata": {
        "id": "dh5KQVe5mogl"
      }
    },
    {
      "cell_type": "code",
      "source": [
        "class Person:\n",
        "    def __init__(self, name):\n",
        "        self.name = name          # Public member\n",
        "        self._age = 25            # Protected member\n",
        "        self.__salary = 50000     # Private member\n",
        "\n",
        "    def display(self):\n",
        "        print(f\"Name: {self.name}, Age: {self._age}, Salary: {self.__salary}\")\n",
        "\n",
        "p = Person(\"John\")\n",
        "print(p.name)    # Accessible (Public)\n",
        "print(p._age)    # Accessible (Protected, but not recommended)\n",
        "# print(p.__salary)  # Will raise an AttributeError (Private)\n"
      ],
      "metadata": {
        "id": "afFVt9tymyrS"
      },
      "execution_count": null,
      "outputs": []
    },
    {
      "cell_type": "markdown",
      "source": [
        "##**6.  Describe the five types of inheritance in Python. Provide a simple example of multiple inheritance.**\n",
        "\n",
        "* Inheritance in python is the way to define a new class based on the other parent class which allows the newly defined child class to access and use the public attribute and methods of the parent class from the objects of the child class. that is we are getting the properties of another class as well.\n",
        "\n",
        "* Five types of inheritancer are -\n",
        "    1.   Single Inheritance - Creates a class inherits from a single class\n",
        "    2.   Multiple Inheritance - Creates a class inherits from more than one class\n",
        "    3.  Multilevel Inheritance - Forms a chain of inheritance\n",
        "    4.  hierarchial Inheritance - More than one class from a single parent class\n",
        "    5.  Hybrid Inheritance - Combination of two or more type of inheritance for example Diamond problem.\n",
        "\n"
      ],
      "metadata": {
        "id": "9y3SrMKImzHP"
      }
    },
    {
      "cell_type": "code",
      "source": [
        "#SINGLE INHERITANCE\n",
        "\n",
        "class Parent:\n",
        "    def work(self):\n",
        "        print(\"Parent works\")\n",
        "\n",
        "class Child(Parent):  # Child inherits from Parent\n",
        "    pass\n",
        "\n",
        "# Creating an instance of Child\n",
        "child = Child()\n",
        "child.work()  # A Method of the class Parent\n"
      ],
      "metadata": {
        "id": "TawoBS8pm6b-"
      },
      "execution_count": null,
      "outputs": []
    },
    {
      "cell_type": "code",
      "source": [
        "# MULTIPLE INHERITANCE\n",
        "\n",
        "class Father:\n",
        "    def father(self):\n",
        "        print(\"Father's property.\")\n",
        "\n",
        "class Mother:\n",
        "    def mother(self):\n",
        "        print(\"Mother's property.\")\n",
        "\n",
        "class Child(Father, Mother):  # Child inherits from both Father and Mother\n",
        "    pass\n",
        "\n",
        "# Creating an instance of Child\n",
        "child = Child()\n",
        "\n",
        "child.father()\n",
        "child.mother()\n"
      ],
      "metadata": {
        "colab": {
          "base_uri": "https://localhost:8080/"
        },
        "id": "q4LlyMImvcJV",
        "outputId": "10334a6c-5fe7-4374-9b13-461474a834ed"
      },
      "execution_count": 64,
      "outputs": [
        {
          "output_type": "stream",
          "name": "stdout",
          "text": [
            "Father's property.\n",
            "Mother's property.\n"
          ]
        }
      ]
    },
    {
      "cell_type": "code",
      "source": [
        "# MULTILEVEL INHERIATANCE\n",
        "\n",
        "class Grandparent:\n",
        "    def wisdom(self):\n",
        "        print(\"Grandparent has wisdom\")\n",
        "\n",
        "class Parent(Grandparent):\n",
        "    def responsibility(self):\n",
        "        print(\"Parent has responsibility\")\n",
        "\n",
        "class Child(Parent):  # Child inherits from Parent, which inherits from Grandparent\n",
        "    pass\n",
        "\n",
        "# Creating an instance of Child\n",
        "child = Child()\n",
        "child.wisdom()\n",
        "child.responsibility()\n"
      ],
      "metadata": {
        "colab": {
          "base_uri": "https://localhost:8080/"
        },
        "id": "_s_8yDYsv-l0",
        "outputId": "54e87136-0592-42d0-ff77-77625c0ec020"
      },
      "execution_count": 65,
      "outputs": [
        {
          "output_type": "stream",
          "name": "stdout",
          "text": [
            "Grandparent has wisdom\n",
            "Parent has responsibility\n"
          ]
        }
      ]
    },
    {
      "cell_type": "code",
      "source": [
        "# HIERARCHIAL INHERITACE\n",
        "\n",
        "class A:\n",
        "    def speak(self):\n",
        "        print(\"Class A is speaking\")\n",
        "\n",
        "class B(A):  # Class B inherits from A\n",
        "    pass\n",
        "\n",
        "class C(A):  # Class C inherits from A\n",
        "    pass\n",
        "\n",
        "# Creating instances of B and C\n",
        "b = B()\n",
        "c = C()\n",
        "\n",
        "b.speak()\n",
        "c.speak()\n"
      ],
      "metadata": {
        "id": "DYgSKnlwwPje"
      },
      "execution_count": null,
      "outputs": []
    },
    {
      "cell_type": "code",
      "source": [
        "# HYBRID\n",
        "\n",
        "class A:\n",
        "    def method_A(self):\n",
        "        print(\"Class A method\")\n",
        "\n",
        "class B:\n",
        "    def method_B(self):\n",
        "        print(\"Class B method\")\n",
        "\n",
        "class C(A):  # Inheriting from A\n",
        "    def method_C(self):\n",
        "        print(\"Class C method\")\n",
        "\n",
        "class D(B, C):  # Hybrid inheritance: Inheriting from both B and C\n",
        "    pass\n",
        "\n",
        "# Creating an instance of D\n",
        "d = D()\n",
        "d.method_B()\n",
        "d.method_C()\n",
        "d.method_A()\n"
      ],
      "metadata": {
        "colab": {
          "base_uri": "https://localhost:8080/"
        },
        "id": "9JQq-Azqwz54",
        "outputId": "e0203748-c775-4d09-9fff-ac37b616bc2a"
      },
      "execution_count": 66,
      "outputs": [
        {
          "output_type": "stream",
          "name": "stdout",
          "text": [
            "Class B method\n",
            "Class C method\n",
            "Class A method\n"
          ]
        }
      ]
    },
    {
      "cell_type": "markdown",
      "source": [
        "##**7. What is the Method Resolution Order (MRO) in Python? How can you retrieve it programmatically?**\n",
        "\n",
        "* The Method Resolution Order (MRO) is the order in which classes are being executed when calling a method especially in case of any ambiguity for example in Diamond problem. This helps python to determine which method to implement first when calling a method of same name in different parent classes. that is in instance of multiple inheritance scenarios, where a class inherits from more than one parent class. MRO uses C3 Linearization algorithm to determine.\n",
        "\n",
        "* We can retrive the MRO i.e., the order using the` __mro__` attribute or the `mro() ` method.\n",
        "\n",
        "\n"
      ],
      "metadata": {
        "id": "TqNBaiJem7OY"
      }
    },
    {
      "cell_type": "code",
      "source": [
        "#LETS USE THE FOLLOWING EXAMPLE, ALSO KNOWN AS DIAMOND PROBLEM\n",
        "\n",
        "class A:\n",
        "    def method(self):\n",
        "        print(\"Method in class A\")\n",
        "\n",
        "class B(A):\n",
        "    def method(self):\n",
        "        print(\"Method in class B\")\n",
        "\n",
        "class C(A):\n",
        "    def method(self):\n",
        "        print(\"Method in class C\")\n",
        "\n",
        "class D(B, C):\n",
        "    pass\n",
        "\n",
        "# Create an instance of D\n",
        "d = D()\n",
        "d.method()  #this will execute the method of Class B. according to MRO it will follow D -> B -> C -> A"
      ],
      "metadata": {
        "id": "JdPwGG2_nBpL",
        "colab": {
          "base_uri": "https://localhost:8080/"
        },
        "outputId": "b169c03a-5554-4b95-da45-a423780c0170"
      },
      "execution_count": 61,
      "outputs": [
        {
          "output_type": "stream",
          "name": "stdout",
          "text": [
            "Method in class B\n"
          ]
        }
      ]
    },
    {
      "cell_type": "code",
      "source": [
        "#retriving the MRO\n",
        "\n",
        "print(D.__mro__)       #using attribute\n",
        "print(D.mro() )                #using method"
      ],
      "metadata": {
        "colab": {
          "base_uri": "https://localhost:8080/"
        },
        "id": "7Dh-QsLMr4z-",
        "outputId": "e970bcd3-14bd-465e-e1cd-c5824607a847"
      },
      "execution_count": 63,
      "outputs": [
        {
          "output_type": "stream",
          "name": "stdout",
          "text": [
            "(<class '__main__.D'>, <class '__main__.B'>, <class '__main__.C'>, <class '__main__.A'>, <class 'object'>)\n",
            "[<class '__main__.D'>, <class '__main__.B'>, <class '__main__.C'>, <class '__main__.A'>, <class 'object'>]\n"
          ]
        }
      ]
    },
    {
      "cell_type": "markdown",
      "source": [
        "##**8. Create an abstract base class `Shape` with an abstract method `area()`. Then create two subclasses `Circle` and `Rectangle` that implement the `area()` method.**"
      ],
      "metadata": {
        "id": "2Zspr5pbnCMS"
      }
    },
    {
      "cell_type": "code",
      "source": [
        "from abc import ABC, abstractmethod\n",
        "\n",
        "class Shape(ABC):\n",
        "#this abstractr class and abstract methods provides a blueprint for the child classes that we have to create a method to calculate the area of a particular shape\n",
        "    @abstractmethod\n",
        "    def area(self):\n",
        "        \"\"\"Abstract method belongs the absract class Shape, to calculate area.\"\"\"\n",
        "        pass\n",
        "\n",
        "class Circle(Shape):        #subclass, inherits the abstract class\n",
        "    def __init__(self, r : float):\n",
        "        \"\"\"\n",
        "        Takes the radius of the circle as it's argument and returns the area when using the area method.\n",
        "        r : radius\n",
        "        \"\"\"\n",
        "        self.r = r\n",
        "\n",
        "    def area(self):         #implimentation of the abstract method\n",
        "        return 3.14 * (self.r **2)\n",
        "\n",
        "\n",
        "class Rectangle(Shape):\n",
        "    def __init__(self, l : float, b : float):\n",
        "        \"\"\"\n",
        "        Takes the length and base of the rectangle as it's arguments and returns the area when using the area method.\n",
        "        l : length\n",
        "        b : base\n",
        "        \"\"\"\n",
        "        self.l = l\n",
        "        self.b = b\n",
        "\n",
        "    def area(self):\n",
        "        return self.l * self.b\n"
      ],
      "metadata": {
        "id": "wnan3uoaULvF"
      },
      "execution_count": null,
      "outputs": []
    },
    {
      "cell_type": "code",
      "source": [
        "r = Rectangle(5, 4)\n",
        "r.area()"
      ],
      "metadata": {
        "id": "c54bFiGgU5-h",
        "colab": {
          "base_uri": "https://localhost:8080/"
        },
        "outputId": "0092789d-2b97-43ee-9612-a6a1cdaf473b"
      },
      "execution_count": null,
      "outputs": [
        {
          "output_type": "execute_result",
          "data": {
            "text/plain": [
              "20"
            ]
          },
          "metadata": {},
          "execution_count": 47
        }
      ]
    },
    {
      "cell_type": "code",
      "source": [
        "c = Circle(10)\n",
        "c.area()"
      ],
      "metadata": {
        "colab": {
          "base_uri": "https://localhost:8080/"
        },
        "id": "S0yMimThj9Ud",
        "outputId": "ea048300-8787-4fa3-bfad-78c65144ee39"
      },
      "execution_count": null,
      "outputs": [
        {
          "output_type": "execute_result",
          "data": {
            "text/plain": [
              "314.0"
            ]
          },
          "metadata": {},
          "execution_count": 48
        }
      ]
    },
    {
      "cell_type": "markdown",
      "source": [
        "##**9. Demonstrate polymorphism by creating a function that can work with different shape objects to calculate and print their areas.**\n",
        "\n",
        "* Polymorphism is the phenomena when an entity works / behaves differently according to the situation. Like in python polymorphism allows a function or method to works differently according to different objects or classes.\n",
        "\n",
        "* Continuing from the previous question, we have a abstract class Shape and abstract method area and that functiions works differently for different objects."
      ],
      "metadata": {
        "id": "Z8NtX1IqnMFo"
      }
    },
    {
      "cell_type": "code",
      "source": [
        "from abc import ABC, abstractmethod\n",
        "\n",
        "class Shape(ABC):\n",
        "#this abstractr class and abstract methods provides a blueprint for the child classes that we have to create a method to calculate the area of a particular shape\n",
        "    @abstractmethod\n",
        "    def area(self):\n",
        "        \"\"\"Abstract method belongs the absract class Shape, to calculate area.\"\"\"\n",
        "        pass\n",
        "\n",
        "class Circle(Shape):        #subclass, inherits the abstract class\n",
        "    def __init__(self, r : float):\n",
        "        \"\"\"\n",
        "        Takes the radius of the circle as it's argument and returns the area when using the area method.\n",
        "        r : radius\n",
        "        \"\"\"\n",
        "        self.r = r\n",
        "\n",
        "    def area(self):         #implimentation of the abstract method\n",
        "        return 3.14 * (self.r **2)\n",
        "\n",
        "\n",
        "class Rectangle(Shape):\n",
        "    def __init__(self, l : float, b : float):\n",
        "        \"\"\"\n",
        "        Takes the length and base of the rectangle as it's arguments and returns the area when using the area method.\n",
        "        l : length\n",
        "        b : base\n",
        "        \"\"\"\n",
        "        self.l = l\n",
        "        self.b = b\n",
        "\n",
        "    def area(self):\n",
        "        return self.l * self.b\n",
        "#the code above is the same code as the previous question\n",
        "\n",
        "\n",
        "# this function shows the phenomena of polymorphism as this function takes any shape object as its input and according to the object it uses different area method to calculate the area\n",
        "\n",
        "def print_area(shape_obj : Shape):      #this ensures the functions will only take the object created from the Shape class\n",
        "    print(f\"Area of the shape {shape_obj.__class__.__name__} is {shape_obj.area()}\")"
      ],
      "metadata": {
        "id": "16j-pNLCnUJj"
      },
      "execution_count": 57,
      "outputs": []
    },
    {
      "cell_type": "code",
      "source": [
        "cir = Circle(10)\n",
        "rect = Rectangle(5, 4)\n",
        "\n",
        "print_area(cir)         #calling the function\n",
        "print_area(rect)"
      ],
      "metadata": {
        "colab": {
          "base_uri": "https://localhost:8080/"
        },
        "id": "kKIICCcDm-r0",
        "outputId": "0c8a9526-bc9e-438e-acfe-304b994a3b3b"
      },
      "execution_count": 60,
      "outputs": [
        {
          "output_type": "stream",
          "name": "stdout",
          "text": [
            "Area of the shape Circle is 314.0\n",
            "Area of the shape Rectangle is 20\n"
          ]
        }
      ]
    },
    {
      "cell_type": "markdown",
      "source": [
        "##**10. Implement encapsulation in a `BankAccount` class with private attributes for `balance` and `account_number`. Include methods for deposit, withdrawal, and balance inquiry.**"
      ],
      "metadata": {
        "id": "8Mroi7N6nUso"
      }
    },
    {
      "cell_type": "code",
      "source": [
        "from binascii import Error\n",
        "class BankAccount:\n",
        "    def __init__(self, balance, acc_no):\n",
        "        self.__balance = balance                        #using double underscore to make the balance and account number private\n",
        "        self.__acc_no = acc_no\n",
        "\n",
        "    def deposit(self, amount):\n",
        "        if amount < 0:\n",
        "            raise Error(\"Amount must be positive.\")\n",
        "        else:\n",
        "            self.__balance += amount\n",
        "            print(f\"Rs. {amount} credited succesfully. \\n Your current balance is {self.__balance}.\\n\")         # we can access the encapsulated variables here as it's in the same class of the private variables\n",
        "\n",
        "    def withdraw(self, amount):\n",
        "        if amount <= self.__balance:\n",
        "            self.__balance -= amount\n",
        "            print(f\"Rs. {amount} withdrawn. \\n Your current balance is {self.__balance}.\\n\")\n",
        "        else:\n",
        "            raise Error(\"Insuffient Balance.\")\n",
        "\n",
        "    def balance_inquiry(self):\n",
        "        print(f\"Your current balance is Rs. {self.__balance}.\\n\")"
      ],
      "metadata": {
        "id": "JsgmDvJunFAv"
      },
      "execution_count": null,
      "outputs": []
    },
    {
      "cell_type": "code",
      "source": [
        "newacc = BankAccount(1000, 123456)\n",
        "newacc.withdraw(200)\n",
        "newacc.balance_inquiry()\n",
        "newacc.deposit(1000)"
      ],
      "metadata": {
        "colab": {
          "base_uri": "https://localhost:8080/"
        },
        "id": "-gQRyaeCtD1Z",
        "outputId": "005b02cb-6e5e-4f4b-e6cb-9f3fb3939afe"
      },
      "execution_count": null,
      "outputs": [
        {
          "output_type": "stream",
          "name": "stdout",
          "text": [
            "Rs. 200 withdrawn. \n",
            " Your current balance is 800.\n",
            "\n",
            "Your current balance is Rs. 800.\n",
            "\n",
            "Rs. 1000 credited succesfully. \n",
            " Your current balance is 1800.\n",
            "\n"
          ]
        }
      ]
    },
    {
      "cell_type": "code",
      "source": [
        "my_acc = BankAccount(1000, 123456)\n",
        "my_acc.balance_inquiry()\n",
        "my_acc.deposit(1500)"
      ],
      "metadata": {
        "colab": {
          "base_uri": "https://localhost:8080/"
        },
        "id": "9SQb1t7-qeev",
        "outputId": "305d52b1-bbb2-450d-e2e8-0be71e53c70c"
      },
      "execution_count": null,
      "outputs": [
        {
          "output_type": "stream",
          "name": "stdout",
          "text": [
            "Your current balance is Rs. 1000.\n",
            "\n",
            "Rs. 1500 credited succesfully. \n",
            " Your current balance is 2500.\n",
            "\n"
          ]
        }
      ]
    },
    {
      "cell_type": "code",
      "source": [
        "my_acc.acc_no           #this will raise an error as we made the account number a private attribute"
      ],
      "metadata": {
        "colab": {
          "base_uri": "https://localhost:8080/",
          "height": 146
        },
        "id": "9DH1MwhVsC6B",
        "outputId": "31db7517-c195-4413-acdb-4ee291b95481"
      },
      "execution_count": null,
      "outputs": [
        {
          "output_type": "error",
          "ename": "AttributeError",
          "evalue": "'BankAccount' object has no attribute '__acc_no'",
          "traceback": [
            "\u001b[0;31m---------------------------------------------------------------------------\u001b[0m",
            "\u001b[0;31mAttributeError\u001b[0m                            Traceback (most recent call last)",
            "\u001b[0;32m<ipython-input-42-602d5819949c>\u001b[0m in \u001b[0;36m<cell line: 1>\u001b[0;34m()\u001b[0m\n\u001b[0;32m----> 1\u001b[0;31m \u001b[0mmy_acc\u001b[0m\u001b[0;34m.\u001b[0m\u001b[0m__acc_no\u001b[0m\u001b[0;34m\u001b[0m\u001b[0;34m\u001b[0m\u001b[0m\n\u001b[0m",
            "\u001b[0;31mAttributeError\u001b[0m: 'BankAccount' object has no attribute '__acc_no'"
          ]
        }
      ]
    },
    {
      "cell_type": "markdown",
      "source": [
        "##**11. Write a class that overrides the `__str__` and `__add__` magic methods. What will these methods allow you to do?**\n",
        "\n",
        "\n",
        "* Now as we used the magic (dunder) method `__str__` to override the default execution of\n",
        "the program to return a string according to our need we can print the object itself otherwise if we don't override the magic methods manually\n",
        " then printing a object would've just given a memory location as output \"`<__main__.GenAI object at 0x7f63cb3a9a50>`\"\n",
        "\n",
        "* Otherwise we would've need to create a separate method inside the class like the following and by calling `student1.show()`\n",
        "\n",
        "```\n",
        "    def show(self):\n",
        "        print(f\"Name : {self.name}, Age : {self.age}, Marks : {self.marks}\")\n",
        "```\n",
        "\n",
        "* These `__add__()` magic methods allows us to customize the default execution of the plus operator by defing the method we tell python what to do when the plus operator will be called within this class.\n",
        "\n",
        "* In the following example the class takes three arguments to create an object which is name age and marks of a student (say). Then by using the __str__() method we explicitly returned our desired string so when we create an object of the class it will instantly return the string other than the memory location of the object.\n",
        "\n",
        "* Similarly we defined the __add__() object to tell python how to add objects by overriding the default implementaion of the plus operaotr as we can't add objects just using plus operator. So we defined the add method as to combine the names and take only the maximum age and add the marks and return another object of the class."
      ],
      "metadata": {
        "id": "GV22te26nk1M"
      }
    },
    {
      "cell_type": "code",
      "source": [
        "class GenAI:\n",
        "    def __init__(self, name, age, marks):\n",
        "        self.name = name\n",
        "        self.age = age\n",
        "        self.marks = marks\n",
        "\n",
        "\n",
        "    def __str__(self):\n",
        "        return f\"Name : {self.name}, Age : {self.age}, Marks : {self.marks}\"\n",
        "\n",
        "\n",
        "    def __add__(self, obj):         #when now the plus operator will work according to this magic method\n",
        "\n",
        "        Team_name = f\"{self.name} & {obj.name}\"\n",
        "        Team_age = max(self.age, obj.age)\n",
        "        Team_marks = self.marks + obj.marks\n",
        "\n",
        "        return GenAI(Team_name, Team_age, Team_marks)     #now this magic method will return an object of the class\n",
        "\n",
        "\n",
        "student1 = GenAI(\"Pritam\", 20, 100)\n",
        "student2 = GenAI (\"P2\", 21, 99)\n",
        "student3 = GenAI (\"P3\", 22, 98)         #created 3 objects  of the class GenAI.\n",
        "\n",
        "team = student1 + student2 + student3       #adding 3 objects this, here the plus \"+\" operaotr will execute the __add__ magic method and we have override the default execution to tell python how to add the object\n",
        "\n",
        "\n",
        "print(student1, student2, student3, sep = \"\\n\")\n",
        "\n",
        "print(f\"\\nPerformance of the team : \\n {team}\")"
      ],
      "metadata": {
        "id": "5RBwiEtIsByg",
        "colab": {
          "base_uri": "https://localhost:8080/"
        },
        "outputId": "893167e1-4fbc-44e8-c571-e890f4b8906e"
      },
      "execution_count": null,
      "outputs": [
        {
          "output_type": "stream",
          "name": "stdout",
          "text": [
            "Name : Pritam, Age : 20, Marks : 100\n",
            "Name : P2, Age : 21, Marks : 99\n",
            "Name : P3, Age : 22, Marks : 98\n",
            "\n",
            "Performance of the team : \n",
            " Name : Pritam & P2 & P3, Age : 22, Marks : 297\n"
          ]
        }
      ]
    },
    {
      "cell_type": "markdown",
      "source": [
        "##**12. Create a decorator that measures and prints the execution time of a function.**"
      ],
      "metadata": {
        "id": "hiOsTtttnsyC"
      }
    },
    {
      "cell_type": "code",
      "source": [
        "import time\n",
        "def timer_deco(og_func):\n",
        "\n",
        "    def replaced_fn (*args):\n",
        "        start = time.time()\n",
        "        result = og_func(*args)\n",
        "        end = time.time()\n",
        "        print(f\"Execution time of the function, {og_func.__name__} is {end - start : .6f} seconds.\")    #upto 6 decimal points\n",
        "\n",
        "        return result       #reutrns the result of the original function which are being decorated\n",
        "\n",
        "    return replaced_fn\n"
      ],
      "metadata": {
        "id": "z4OBki-gJJmb"
      },
      "execution_count": null,
      "outputs": []
    },
    {
      "cell_type": "code",
      "source": [
        "@timer_deco\n",
        "def ex_func():\n",
        "    summ = sum(range(100000000))\n",
        "    return summ\n",
        "\n",
        "ex_func()"
      ],
      "metadata": {
        "colab": {
          "base_uri": "https://localhost:8080/"
        },
        "id": "pdvapLWtZmmF",
        "outputId": "460fc1a0-eef2-4f86-f173-949a2f061e29"
      },
      "execution_count": null,
      "outputs": [
        {
          "output_type": "stream",
          "name": "stdout",
          "text": [
            "Execution time of the function, ex_func is  1.973961 seconds.\n"
          ]
        },
        {
          "output_type": "execute_result",
          "data": {
            "text/plain": [
              "4999999950000000"
            ]
          },
          "metadata": {},
          "execution_count": 87
        }
      ]
    },
    {
      "cell_type": "code",
      "source": [
        "@timer_deco\n",
        "def add(*args):\n",
        "    summ = sum(args)\n",
        "    return summ\n",
        "\n",
        "add(90, 90**9, 3.146677, 10**10, 7**7, 9*9, 5*9)"
      ],
      "metadata": {
        "colab": {
          "base_uri": "https://localhost:8080/"
        },
        "id": "g41n8U0YVUG5",
        "outputId": "d77eb42c-8b1d-46b7-fa21-3ff4251042dc"
      },
      "execution_count": null,
      "outputs": [
        {
          "output_type": "stream",
          "name": "stdout",
          "text": [
            "Execution time of the function, add is  0.000004 seconds.\n"
          ]
        },
        {
          "output_type": "execute_result",
          "data": {
            "text/plain": [
              "3.8742049900082374e+17"
            ]
          },
          "metadata": {},
          "execution_count": 88
        }
      ]
    },
    {
      "cell_type": "markdown",
      "source": [
        "##**13. Explain the concept of the Diamond Problem in multiple inheritance. How does Python resolve it?**\n",
        "\n",
        "#### **Diamond Problem -**\n",
        "Diamond problem occurs from the combination of multiple and multilevel inheritence. Suppose we have 4 classes A, B, C, D. Where A will be the primary parent class and B, C both will be the child class of A and D will be the child class of B and C (multiple Inheritance).\n",
        "* If we draw a pattern tree of the hierarchy of the relation this forms a diamond shape and this leads us to an ambiguity to determine which method or attribute to inherit from the common parent class A since all the method name are same for each class in diamond problem."
      ],
      "metadata": {
        "id": "-lYOcmIqnxlm"
      }
    },
    {
      "cell_type": "code",
      "source": [
        "class A:\n",
        "    def method (self):\n",
        "        print(\"This is method A\")\n",
        "\n",
        "class B(A):\n",
        "    def method (self):\n",
        "        print(\"This is method B\")\n",
        "\n",
        "class C(A):\n",
        "    def method(self):\n",
        "        print(\"This is method C\")\n",
        "\n",
        "class D(C, B):      # D inherits from both B and C  and this order is important in which we mentioned inside the class D(B, C) will give different result than D(C, B)\n",
        "    pass\n",
        "\n",
        "\n",
        "d = D()         #object of class D\n",
        "\n",
        "d.method()              #this will give method C. Since we mentioned the class c first inside class D while inheriting. according to MRO\n",
        "d.method()"
      ],
      "metadata": {
        "colab": {
          "base_uri": "https://localhost:8080/"
        },
        "id": "3eXqpDZlT0cV",
        "outputId": "9bffb302-2b5e-47ab-a605-89c553c57fc3"
      },
      "execution_count": null,
      "outputs": [
        {
          "output_type": "stream",
          "name": "stdout",
          "text": [
            "This is method C\n",
            "This is method C\n"
          ]
        }
      ]
    },
    {
      "cell_type": "markdown",
      "source": [
        "* To resolve the ambiguity caused by the diamond problem python uses a C3 Linearization algorithm also known as **Method Resolution Order  (MRO)** which uses the order of the classes that has been used while defining the class and called method according to the order. For example we defined the class D `class D(C, B)` like this, that is we have given C then B inside the D. So according to MRO when we will call a method python first call the method from class C."
      ],
      "metadata": {
        "id": "NY_fejf6cQ_y"
      }
    },
    {
      "cell_type": "code",
      "source": [
        "c = C()\n",
        "c.method()"
      ],
      "metadata": {
        "colab": {
          "base_uri": "https://localhost:8080/"
        },
        "id": "fsFLhxKSa5P4",
        "outputId": "97883c83-6dee-4931-eea9-5f63e875ecff"
      },
      "execution_count": null,
      "outputs": [
        {
          "output_type": "stream",
          "name": "stdout",
          "text": [
            "This is method C\n"
          ]
        }
      ]
    },
    {
      "cell_type": "code",
      "source": [
        "D.mro()         #using this in built method we can see the order MRO using. That is D to C to B to A"
      ],
      "metadata": {
        "colab": {
          "base_uri": "https://localhost:8080/"
        },
        "id": "lv3Iidqhf2gd",
        "outputId": "41f52efb-1e3c-48e8-ea17-480b67e4c761"
      },
      "execution_count": null,
      "outputs": [
        {
          "output_type": "execute_result",
          "data": {
            "text/plain": [
              "[__main__.D, __main__.C, __main__.B, __main__.A, object]"
            ]
          },
          "metadata": {},
          "execution_count": 44
        }
      ]
    },
    {
      "cell_type": "markdown",
      "source": [
        "##**14. Write a class method that keeps track of the number of instances created from a class.**"
      ],
      "metadata": {
        "id": "8xQPDgS6n3Ch"
      }
    },
    {
      "cell_type": "code",
      "source": [
        "class Counter:\n",
        "\n",
        "    count = 0       #creating a class variable to keep track on the count and to ensure the variable is all over the class not in any particular method\n",
        "\n",
        "    def __init__(self):\n",
        "        Counter.tracker()       #calling the classmethod inside the constructor as the constructor will be executed everytime an object will be created so now the function tracker will also be executed for each object.\n",
        "\n",
        "    @classmethod\n",
        "    def tracker(cls):\n",
        "        cls.count += 1\n",
        "\n",
        "\n",
        "    @classmethod\n",
        "    def get_count(cls):             #this method is to view the total number of objects already created\n",
        "        return f\"Number of instances created : {cls.count} \""
      ],
      "metadata": {
        "id": "_UdwIrE9n8Dd"
      },
      "execution_count": null,
      "outputs": []
    },
    {
      "cell_type": "code",
      "source": [
        "o1 = Counter()\n",
        "o2 = Counter()\n",
        "o3 = Counter()\n",
        "o4 = Counter()\n",
        "o5 = Counter()\n",
        "o6 = Counter()"
      ],
      "metadata": {
        "id": "QrwchN8YSKIh"
      },
      "execution_count": null,
      "outputs": []
    },
    {
      "cell_type": "code",
      "source": [
        "Counter.get_count()"
      ],
      "metadata": {
        "colab": {
          "base_uri": "https://localhost:8080/",
          "height": 35
        },
        "id": "xjgb721ZSQ9r",
        "outputId": "28c8215a-f70c-4fb6-9f2a-b64fb52edba6"
      },
      "execution_count": null,
      "outputs": [
        {
          "output_type": "execute_result",
          "data": {
            "text/plain": [
              "'Number of instances created : 6 '"
            ],
            "application/vnd.google.colaboratory.intrinsic+json": {
              "type": "string"
            }
          },
          "metadata": {},
          "execution_count": 29
        }
      ]
    },
    {
      "cell_type": "markdown",
      "source": [
        "##**15.  Implement a static method in a class that checks if a given year is a leap year.**"
      ],
      "metadata": {
        "id": "p38YK3Jyn8oG"
      }
    },
    {
      "cell_type": "code",
      "source": [
        "class LeapYear:\n",
        "    # def __init__(self, year):             # as to implement a static method we don't require this. static method works independently and does not require any data from the class or the object.\n",
        "    #     self.year = year\n",
        "\n",
        "    @staticmethod\n",
        "    def is_leap_year(year : int) -> bool :\n",
        "\n",
        "        \"\"\"\n",
        "        This is static method inside the class LeapYear.\n",
        "\n",
        "        Param: year (int): Expects a integer input and\n",
        "\n",
        "        Returns a boolean  True if the year is a leap year and False if not.\n",
        "        \"\"\"\n",
        "\n",
        "        if year % 4 != 0:\n",
        "            return False            #if not divided by 4. straightaway its NOT a leap year\n",
        "\n",
        "        if year % 100 != 0:\n",
        "            return True             #if divided by 4 now we have to ensure if its divided by 100, if divided by 100 then we have to check for 400.\n",
        "\n",
        "        if year % 400 == 0:\n",
        "            return True                 #if divided by 100 and divided by 400 as well then its a leap year\n",
        "\n",
        "        return False            # if divided by 100 but not by 400 then not a leap year"
      ],
      "metadata": {
        "id": "kqhIhEiboDUW"
      },
      "execution_count": null,
      "outputs": []
    },
    {
      "cell_type": "code",
      "source": [
        "#calling our static method, no need of creating an object, though we can also use the method using an object as well\n",
        "LeapYear.is_leap_year(2020)"
      ],
      "metadata": {
        "colab": {
          "base_uri": "https://localhost:8080/"
        },
        "id": "ygUMSD66Gq9F",
        "outputId": "0c8a3099-974a-4564-a9d3-d953dfab53e1"
      },
      "execution_count": null,
      "outputs": [
        {
          "output_type": "execute_result",
          "data": {
            "text/plain": [
              "True"
            ]
          },
          "metadata": {},
          "execution_count": 16
        }
      ]
    },
    {
      "cell_type": "code",
      "source": [
        "y = LeapYear()      #creating an object of the class\n",
        "\n",
        "y.is_leap_year(2024)"
      ],
      "metadata": {
        "colab": {
          "base_uri": "https://localhost:8080/"
        },
        "id": "ZNFjC6FwNZxp",
        "outputId": "3e937e2c-9a87-48e0-b877-9f0701d9f192"
      },
      "execution_count": null,
      "outputs": [
        {
          "output_type": "execute_result",
          "data": {
            "text/plain": [
              "True"
            ]
          },
          "metadata": {},
          "execution_count": 17
        }
      ]
    }
  ]
}